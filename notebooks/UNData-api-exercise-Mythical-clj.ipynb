{
 "cells": [
  {
   "cell_type": "markdown",
   "id": "e6c7a1ef-fb58-4c44-80ff-8019359fd654",
   "metadata": {},
   "source": [
    "# UNData API Exercise #"
   ]
  },
  {
   "cell_type": "markdown",
   "id": "d42d2104-af4e-49c1-a882-f4b253f8f8bd",
   "metadata": {},
   "source": [
    "### Cavin Jacobson ###"
   ]
  },
  {
   "cell_type": "markdown",
   "id": "d4d7a1ae-42b3-43c2-9e33-810f018cee82",
   "metadata": {},
   "source": [
    "**In this exercise, you'll redo the data gathering phase of the UNData Exploration project by using APIs instead of downloading csv files.**\n",
    "\n",
    "**You'll make use of the World Bank Indicators API. Note that this API does not require an API key. Before attempting the exercise, it would be a good idea to skim through the Documentation page and to check out the Basic Call Structure article.**"
   ]
  },
  {
   "cell_type": "code",
   "execution_count": 4,
   "id": "2dcd8d34-7225-4333-a8af-8cbb210026f2",
   "metadata": {},
   "outputs": [],
   "source": [
    "import requests\n",
    "import pandas as pd\n",
    "import matplotlib.pyplot as plt\n",
    "import json"
   ]
  },
  {
   "cell_type": "markdown",
   "id": "1859fa97-5883-4f5f-b478-af424d42c803",
   "metadata": {},
   "source": [
    "1. Use the API to get all available data for the GDP per capita, PPP (constant 2017 international $) indicator. Hint: this indicator has code \"NY.GDP.PCAP.PP.KD\". Adjust the query parameters so that you can retrieve all available rows. Convert the results to a DataFrame."
   ]
  },
  {
   "cell_type": "code",
   "execution_count": 6,
   "id": "713de160-1c92-43b6-8a87-498040474cb6",
   "metadata": {},
   "outputs": [],
   "source": [
    "params = {\n",
    "    'per_page': 20000\n",
    "}"
   ]
  },
  {
   "cell_type": "code",
   "execution_count": 7,
   "id": "c9e97a2f-0404-42d0-8e8f-1979b7b6cdc8",
   "metadata": {},
   "outputs": [],
   "source": [
    "endpointgdp = 'https://api.worldbank.org/v2/country/all/indicator/NY.GDP.PCAP.PP.KD?format=json'\n",
    "\n",
    "response = requests.get(endpointgdp, params = params)"
   ]
  },
  {
   "cell_type": "code",
   "execution_count": 8,
   "id": "379844b9-09c9-47ae-b077-9545ee8c5ae3",
   "metadata": {},
   "outputs": [],
   "source": [
    "gdp_res= response.json()"
   ]
  },
  {
   "cell_type": "code",
   "execution_count": 77,
   "id": "6ddd6fb3-ea51-4324-9478-d1591e1133b6",
   "metadata": {},
   "outputs": [],
   "source": [
    "gdp_norm = (\n",
    "    pd.json_normalize(gdp_res[1])\n",
    "    .drop(columns = ['unit', 'obs_status', 'country.id', 'indicator.id', 'indicator.value', 'countryiso3code', 'decimal'])\n",
    "    .rename(columns = {'value': 'GDP Per Capita', 'date': 'Year', 'country.value': 'Country'})\n",
    ")"
   ]
  },
  {
   "cell_type": "code",
   "execution_count": 79,
   "id": "321012b2-21e8-4d9b-a801-663c4a07a71b",
   "metadata": {},
   "outputs": [
    {
     "data": {
      "text/html": [
       "<div>\n",
       "<style scoped>\n",
       "    .dataframe tbody tr th:only-of-type {\n",
       "        vertical-align: middle;\n",
       "    }\n",
       "\n",
       "    .dataframe tbody tr th {\n",
       "        vertical-align: top;\n",
       "    }\n",
       "\n",
       "    .dataframe thead th {\n",
       "        text-align: right;\n",
       "    }\n",
       "</style>\n",
       "<table border=\"1\" class=\"dataframe\">\n",
       "  <thead>\n",
       "    <tr style=\"text-align: right;\">\n",
       "      <th></th>\n",
       "      <th>Year</th>\n",
       "      <th>GDP Per Capita</th>\n",
       "      <th>Country</th>\n",
       "    </tr>\n",
       "  </thead>\n",
       "  <tbody>\n",
       "    <tr>\n",
       "      <th>0</th>\n",
       "      <td>2023</td>\n",
       "      <td>4047.007031</td>\n",
       "      <td>Africa Eastern and Southern</td>\n",
       "    </tr>\n",
       "    <tr>\n",
       "      <th>1</th>\n",
       "      <td>2022</td>\n",
       "      <td>4038.638689</td>\n",
       "      <td>Africa Eastern and Southern</td>\n",
       "    </tr>\n",
       "    <tr>\n",
       "      <th>2</th>\n",
       "      <td>2021</td>\n",
       "      <td>3994.171654</td>\n",
       "      <td>Africa Eastern and Southern</td>\n",
       "    </tr>\n",
       "  </tbody>\n",
       "</table>\n",
       "</div>"
      ],
      "text/plain": [
       "   Year  GDP Per Capita                      Country\n",
       "0  2023     4047.007031  Africa Eastern and Southern\n",
       "1  2022     4038.638689  Africa Eastern and Southern\n",
       "2  2021     3994.171654  Africa Eastern and Southern"
      ]
     },
     "execution_count": 79,
     "metadata": {},
     "output_type": "execute_result"
    }
   ],
   "source": [
    "gdp_norm.head(3)"
   ]
  },
  {
   "cell_type": "markdown",
   "id": "d32f2701-cf04-4e17-a419-8f2b127b0761",
   "metadata": {},
   "source": [
    "2. Now, use the API to get all available data for Life expectancy at birth, total (years). This indicator has code \"SP.DYN.LE00.IN\". Again, convert the results to a DataFrame."
   ]
  },
  {
   "cell_type": "code",
   "execution_count": 43,
   "id": "fba2d0bb-40d3-4035-8f76-ae8ad7e4ec7b",
   "metadata": {},
   "outputs": [],
   "source": [
    "endpointle = 'https://api.worldbank.org/v2/country/all/indicator/SP.DYN.LE00.IN?format=json'\n",
    "\n",
    "response_le = requests.get(endpointle, params = params)"
   ]
  },
  {
   "cell_type": "code",
   "execution_count": 45,
   "id": "d791282b-33a1-4050-9580-c66e93cb41f8",
   "metadata": {},
   "outputs": [],
   "source": [
    "le_res= response_le.json()"
   ]
  },
  {
   "cell_type": "code",
   "execution_count": 73,
   "id": "5b36d9c4-279a-43c6-8c74-495a1b533184",
   "metadata": {},
   "outputs": [],
   "source": [
    "le_norm = (\n",
    "    pd.json_normalize(le_res[1])\n",
    "    .drop(columns = ['unit', 'obs_status', 'country.id', 'indicator.id', 'indicator.value', 'countryiso3code', 'decimal'])\n",
    "    .rename(columns = {'value': 'Life Expectancy', 'date': 'Year', 'country.value': 'Country'})\n",
    ")"
   ]
  },
  {
   "cell_type": "code",
   "execution_count": 75,
   "id": "16160bdd-4cbc-43c9-bf2e-af575d013a9b",
   "metadata": {},
   "outputs": [
    {
     "data": {
      "text/html": [
       "<div>\n",
       "<style scoped>\n",
       "    .dataframe tbody tr th:only-of-type {\n",
       "        vertical-align: middle;\n",
       "    }\n",
       "\n",
       "    .dataframe tbody tr th {\n",
       "        vertical-align: top;\n",
       "    }\n",
       "\n",
       "    .dataframe thead th {\n",
       "        text-align: right;\n",
       "    }\n",
       "</style>\n",
       "<table border=\"1\" class=\"dataframe\">\n",
       "  <thead>\n",
       "    <tr style=\"text-align: right;\">\n",
       "      <th></th>\n",
       "      <th>Year</th>\n",
       "      <th>Life Expectancy</th>\n",
       "      <th>Country</th>\n",
       "    </tr>\n",
       "  </thead>\n",
       "  <tbody>\n",
       "    <tr>\n",
       "      <th>0</th>\n",
       "      <td>2023</td>\n",
       "      <td>NaN</td>\n",
       "      <td>Africa Eastern and Southern</td>\n",
       "    </tr>\n",
       "    <tr>\n",
       "      <th>1</th>\n",
       "      <td>2022</td>\n",
       "      <td>62.899031</td>\n",
       "      <td>Africa Eastern and Southern</td>\n",
       "    </tr>\n",
       "    <tr>\n",
       "      <th>2</th>\n",
       "      <td>2021</td>\n",
       "      <td>62.454590</td>\n",
       "      <td>Africa Eastern and Southern</td>\n",
       "    </tr>\n",
       "  </tbody>\n",
       "</table>\n",
       "</div>"
      ],
      "text/plain": [
       "   Year  Life Expectancy                      Country\n",
       "0  2023              NaN  Africa Eastern and Southern\n",
       "1  2022        62.899031  Africa Eastern and Southern\n",
       "2  2021        62.454590  Africa Eastern and Southern"
      ]
     },
     "execution_count": 75,
     "metadata": {},
     "output_type": "execute_result"
    }
   ],
   "source": [
    "le_norm.head(3)"
   ]
  },
  {
   "cell_type": "markdown",
   "id": "d64f0b89-e062-4d76-a3a7-5a978373fc9f",
   "metadata": {},
   "source": [
    "3. Merge the two results DataFrames together. You may want to rename or drop columns prior to merging."
   ]
  },
  {
   "cell_type": "code",
   "execution_count": 99,
   "id": "618c7450-85dd-4b50-8617-749cd51be4e3",
   "metadata": {},
   "outputs": [
    {
     "data": {
      "text/html": [
       "<div>\n",
       "<style scoped>\n",
       "    .dataframe tbody tr th:only-of-type {\n",
       "        vertical-align: middle;\n",
       "    }\n",
       "\n",
       "    .dataframe tbody tr th {\n",
       "        vertical-align: top;\n",
       "    }\n",
       "\n",
       "    .dataframe thead th {\n",
       "        text-align: right;\n",
       "    }\n",
       "</style>\n",
       "<table border=\"1\" class=\"dataframe\">\n",
       "  <thead>\n",
       "    <tr style=\"text-align: right;\">\n",
       "      <th></th>\n",
       "      <th>Year</th>\n",
       "      <th>Country</th>\n",
       "      <th>GDP Per Capita</th>\n",
       "      <th>Life Expectancy</th>\n",
       "    </tr>\n",
       "  </thead>\n",
       "  <tbody>\n",
       "    <tr>\n",
       "      <th>0</th>\n",
       "      <td>2023</td>\n",
       "      <td>Africa Eastern and Southern</td>\n",
       "      <td>4047.007031</td>\n",
       "      <td>NaN</td>\n",
       "    </tr>\n",
       "    <tr>\n",
       "      <th>1</th>\n",
       "      <td>2022</td>\n",
       "      <td>Africa Eastern and Southern</td>\n",
       "      <td>4038.638689</td>\n",
       "      <td>62.899031</td>\n",
       "    </tr>\n",
       "    <tr>\n",
       "      <th>2</th>\n",
       "      <td>2021</td>\n",
       "      <td>Africa Eastern and Southern</td>\n",
       "      <td>3994.171654</td>\n",
       "      <td>62.454590</td>\n",
       "    </tr>\n",
       "    <tr>\n",
       "      <th>3</th>\n",
       "      <td>2020</td>\n",
       "      <td>Africa Eastern and Southern</td>\n",
       "      <td>3919.499230</td>\n",
       "      <td>63.313860</td>\n",
       "    </tr>\n",
       "    <tr>\n",
       "      <th>4</th>\n",
       "      <td>2019</td>\n",
       "      <td>Africa Eastern and Southern</td>\n",
       "      <td>4130.057222</td>\n",
       "      <td>63.755678</td>\n",
       "    </tr>\n",
       "    <tr>\n",
       "      <th>...</th>\n",
       "      <td>...</td>\n",
       "      <td>...</td>\n",
       "      <td>...</td>\n",
       "      <td>...</td>\n",
       "    </tr>\n",
       "    <tr>\n",
       "      <th>17019</th>\n",
       "      <td>1964</td>\n",
       "      <td>Zimbabwe</td>\n",
       "      <td>NaN</td>\n",
       "      <td>54.994000</td>\n",
       "    </tr>\n",
       "    <tr>\n",
       "      <th>17020</th>\n",
       "      <td>1963</td>\n",
       "      <td>Zimbabwe</td>\n",
       "      <td>NaN</td>\n",
       "      <td>54.549000</td>\n",
       "    </tr>\n",
       "    <tr>\n",
       "      <th>17021</th>\n",
       "      <td>1962</td>\n",
       "      <td>Zimbabwe</td>\n",
       "      <td>NaN</td>\n",
       "      <td>54.071000</td>\n",
       "    </tr>\n",
       "    <tr>\n",
       "      <th>17022</th>\n",
       "      <td>1961</td>\n",
       "      <td>Zimbabwe</td>\n",
       "      <td>NaN</td>\n",
       "      <td>53.619000</td>\n",
       "    </tr>\n",
       "    <tr>\n",
       "      <th>17023</th>\n",
       "      <td>1960</td>\n",
       "      <td>Zimbabwe</td>\n",
       "      <td>NaN</td>\n",
       "      <td>53.235000</td>\n",
       "    </tr>\n",
       "  </tbody>\n",
       "</table>\n",
       "<p>17024 rows × 4 columns</p>\n",
       "</div>"
      ],
      "text/plain": [
       "       Year                      Country  GDP Per Capita  Life Expectancy\n",
       "0      2023  Africa Eastern and Southern     4047.007031              NaN\n",
       "1      2022  Africa Eastern and Southern     4038.638689        62.899031\n",
       "2      2021  Africa Eastern and Southern     3994.171654        62.454590\n",
       "3      2020  Africa Eastern and Southern     3919.499230        63.313860\n",
       "4      2019  Africa Eastern and Southern     4130.057222        63.755678\n",
       "...     ...                          ...             ...              ...\n",
       "17019  1964                     Zimbabwe             NaN        54.994000\n",
       "17020  1963                     Zimbabwe             NaN        54.549000\n",
       "17021  1962                     Zimbabwe             NaN        54.071000\n",
       "17022  1961                     Zimbabwe             NaN        53.619000\n",
       "17023  1960                     Zimbabwe             NaN        53.235000\n",
       "\n",
       "[17024 rows x 4 columns]"
      ]
     },
     "execution_count": 99,
     "metadata": {},
     "output_type": "execute_result"
    }
   ],
   "source": [
    "pd.merge(gdp_norm[['Year', 'Country', 'GDP Per Capita']], le_norm)"
   ]
  },
  {
   "cell_type": "markdown",
   "id": "129d64c9-7940-49c9-aeb9-42620f7f634a",
   "metadata": {},
   "source": [
    "4. You can also get more information about the available countries (region, capital city, income level classification, etc.) by using the Country API. Use this API to pull in all available data. Merge this with your other datasets. Use this to now remove the rows that correspond to regions and not countries."
   ]
  },
  {
   "cell_type": "code",
   "execution_count": null,
   "id": "e1b23558-c4c5-46b1-8f61-f7a05bd9b9f8",
   "metadata": {},
   "outputs": [],
   "source": []
  },
  {
   "cell_type": "markdown",
   "id": "33fcd8af-d89a-4852-aada-6d36577ee55a",
   "metadata": {},
   "source": [
    "## Bonus Questions ##"
   ]
  },
  {
   "cell_type": "markdown",
   "id": "ab0a7e08-965a-4766-abfb-195bd140801b",
   "metadata": {},
   "source": [
    "1. Adjust your request so that it returns data just for the United States "
   ]
  },
  {
   "cell_type": "code",
   "execution_count": null,
   "id": "7b4e83a2-1b2e-4275-9dbf-966f48b5a7fe",
   "metadata": {},
   "outputs": [],
   "source": []
  },
  {
   "cell_type": "markdown",
   "id": "2b64448c-1cb6-47c8-ae4c-16e729fbf3c5",
   "metadata": {},
   "source": [
    "2. Adjust your request so that it returns data just for the United States for the year 2021."
   ]
  },
  {
   "cell_type": "code",
   "execution_count": null,
   "id": "eb0800cb-e2d8-413e-9d7e-7ac7d84c14f9",
   "metadata": {},
   "outputs": [],
   "source": []
  },
  {
   "cell_type": "markdown",
   "id": "beb8f143-e01a-4d26-b583-12f2ce8aa9d6",
   "metadata": {},
   "source": [
    "3. Adjust your request so that it returns data just for the United States for the years 2000 through 2021."
   ]
  },
  {
   "cell_type": "code",
   "execution_count": null,
   "id": "e0e8b7e6-d0da-4655-9fdb-d550cde64262",
   "metadata": {},
   "outputs": [],
   "source": []
  },
  {
   "cell_type": "markdown",
   "id": "c6e80956-3e80-4d06-a1aa-3e136a8a7100",
   "metadata": {},
   "source": [
    "4. Adjust your request so that it returns data for the United States and Canada for the years 2000 through 2021."
   ]
  },
  {
   "cell_type": "code",
   "execution_count": null,
   "id": "013fb90c-e93f-4877-be69-ca214a9cc530",
   "metadata": {},
   "outputs": [],
   "source": []
  },
  {
   "cell_type": "markdown",
   "id": "283139c6-f75c-474e-b75a-832a4ddc7d61",
   "metadata": {},
   "source": [
    "5. If you haven't already done so and you would like to get some additional practice using loops, use the page parameter in order to pull all records. Do not change the value of the per_page parameter. You will likely need to utilize a loop of some kind in order to pull all records."
   ]
  },
  {
   "cell_type": "code",
   "execution_count": null,
   "id": "31efc617-63ef-43db-968b-87d839993e4a",
   "metadata": {},
   "outputs": [],
   "source": []
  },
  {
   "cell_type": "markdown",
   "id": "6222a291-a7f2-4758-b578-f88aea7f3d2a",
   "metadata": {},
   "source": [
    "6. The endpoint \"http://api.worldbank.org/v2/indicator\" will return information about all available indicators. See Indicator API Queries. Use this endpoint to find the code for the \"Public Expenditure on Education (% GDP)\" indicator. "
   ]
  },
  {
   "cell_type": "code",
   "execution_count": null,
   "id": "2c14025a-3354-47a8-af7d-87b0908ed862",
   "metadata": {},
   "outputs": [],
   "source": []
  }
 ],
 "metadata": {
  "kernelspec": {
   "display_name": "Python 3 (ipykernel)",
   "language": "python",
   "name": "python3"
  },
  "language_info": {
   "codemirror_mode": {
    "name": "ipython",
    "version": 3
   },
   "file_extension": ".py",
   "mimetype": "text/x-python",
   "name": "python",
   "nbconvert_exporter": "python",
   "pygments_lexer": "ipython3",
   "version": "3.12.4"
  }
 },
 "nbformat": 4,
 "nbformat_minor": 5
}
