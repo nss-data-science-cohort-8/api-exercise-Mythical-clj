{
 "cells": [
  {
   "cell_type": "markdown",
   "id": "e6c7a1ef-fb58-4c44-80ff-8019359fd654",
   "metadata": {},
   "source": [
    "# UNData API Exercise #"
   ]
  },
  {
   "cell_type": "markdown",
   "id": "d42d2104-af4e-49c1-a882-f4b253f8f8bd",
   "metadata": {},
   "source": [
    "### Cavin Jacobson ###"
   ]
  },
  {
   "cell_type": "markdown",
   "id": "d4d7a1ae-42b3-43c2-9e33-810f018cee82",
   "metadata": {},
   "source": [
    "**In this exercise, you'll redo the data gathering phase of the UNData Exploration project by using APIs instead of downloading csv files.**\n",
    "\n",
    "**You'll make use of the World Bank Indicators API. Note that this API does not require an API key. Before attempting the exercise, it would be a good idea to skim through the Documentation page and to check out the Basic Call Structure article.**"
   ]
  },
  {
   "cell_type": "code",
   "execution_count": 4,
   "id": "2dcd8d34-7225-4333-a8af-8cbb210026f2",
   "metadata": {},
   "outputs": [],
   "source": [
    "import requests\n",
    "import pandas as pd\n",
    "import matplotlib.pyplot as plt\n",
    "import json"
   ]
  },
  {
   "cell_type": "markdown",
   "id": "1859fa97-5883-4f5f-b478-af424d42c803",
   "metadata": {},
   "source": [
    "1. Use the API to get all available data for the GDP per capita, PPP (constant 2017 international $) indicator. Hint: this indicator has code \"NY.GDP.PCAP.PP.KD\". Adjust the query parameters so that you can retrieve all available rows. Convert the results to a DataFrame."
   ]
  },
  {
   "cell_type": "code",
   "execution_count": 66,
   "id": "713de160-1c92-43b6-8a87-498040474cb6",
   "metadata": {},
   "outputs": [],
   "source": [
    "params = {\n",
    "    'format': 'json',\n",
    "    'per_page': 20000\n",
    "}"
   ]
  },
  {
   "cell_type": "code",
   "execution_count": 7,
   "id": "c9e97a2f-0404-42d0-8e8f-1979b7b6cdc8",
   "metadata": {},
   "outputs": [],
   "source": [
    "endpointgdp = 'https://api.worldbank.org/v2/country/all/indicator/NY.GDP.PCAP.PP.KD'\n",
    "\n",
    "response = requests.get(endpointgdp, params = params)"
   ]
  },
  {
   "cell_type": "code",
   "execution_count": 111,
   "id": "6ddd6fb3-ea51-4324-9478-d1591e1133b6",
   "metadata": {},
   "outputs": [],
   "source": [
    "gdp_norm = (\n",
    "    pd.json_normalize(response.json()[1])\n",
    "    .drop(\n",
    "        columns = {'unit', 'obs_status', 'country.id', 'indicator.id', 'indicator.value', 'countryiso3code', 'decimal'})\n",
    "    .rename\n",
    "        (columns = {'value': 'GDP Per Capita', 'date': 'Year', 'country.value': 'Country'})\n",
    ")"
   ]
  },
  {
   "cell_type": "code",
   "execution_count": 115,
   "id": "321012b2-21e8-4d9b-a801-663c4a07a71b",
   "metadata": {},
   "outputs": [
    {
     "data": {
      "text/html": [
       "<div>\n",
       "<style scoped>\n",
       "    .dataframe tbody tr th:only-of-type {\n",
       "        vertical-align: middle;\n",
       "    }\n",
       "\n",
       "    .dataframe tbody tr th {\n",
       "        vertical-align: top;\n",
       "    }\n",
       "\n",
       "    .dataframe thead th {\n",
       "        text-align: right;\n",
       "    }\n",
       "</style>\n",
       "<table border=\"1\" class=\"dataframe\">\n",
       "  <thead>\n",
       "    <tr style=\"text-align: right;\">\n",
       "      <th></th>\n",
       "      <th>Year</th>\n",
       "      <th>GDP Per Capita</th>\n",
       "      <th>Country</th>\n",
       "    </tr>\n",
       "  </thead>\n",
       "  <tbody>\n",
       "    <tr>\n",
       "      <th>12880</th>\n",
       "      <td>2007</td>\n",
       "      <td>3367.548977</td>\n",
       "      <td>Papua New Guinea</td>\n",
       "    </tr>\n",
       "    <tr>\n",
       "      <th>82</th>\n",
       "      <td>2005</td>\n",
       "      <td>3824.095862</td>\n",
       "      <td>Africa Western and Central</td>\n",
       "    </tr>\n",
       "    <tr>\n",
       "      <th>10106</th>\n",
       "      <td>1965</td>\n",
       "      <td>NaN</td>\n",
       "      <td>Lao PDR</td>\n",
       "    </tr>\n",
       "  </tbody>\n",
       "</table>\n",
       "</div>"
      ],
      "text/plain": [
       "       Year  GDP Per Capita                     Country\n",
       "12880  2007     3367.548977            Papua New Guinea\n",
       "82     2005     3824.095862  Africa Western and Central\n",
       "10106  1965             NaN                     Lao PDR"
      ]
     },
     "execution_count": 115,
     "metadata": {},
     "output_type": "execute_result"
    }
   ],
   "source": [
    "gdp_norm.sample(3)"
   ]
  },
  {
   "cell_type": "markdown",
   "id": "d32f2701-cf04-4e17-a419-8f2b127b0761",
   "metadata": {},
   "source": [
    "2. Now, use the API to get all available data for Life expectancy at birth, total (years). This indicator has code \"SP.DYN.LE00.IN\". Again, convert the results to a DataFrame."
   ]
  },
  {
   "cell_type": "code",
   "execution_count": 83,
   "id": "fba2d0bb-40d3-4035-8f76-ae8ad7e4ec7b",
   "metadata": {},
   "outputs": [],
   "source": [
    "endpointle = 'https://api.worldbank.org/v2/country/all/indicator/SP.DYN.LE00.IN'\n",
    "\n",
    "response_le = requests.get(endpointle, params = params)"
   ]
  },
  {
   "cell_type": "code",
   "execution_count": 85,
   "id": "d791282b-33a1-4050-9580-c66e93cb41f8",
   "metadata": {},
   "outputs": [],
   "source": [
    "le_res= response_le.json()"
   ]
  },
  {
   "cell_type": "code",
   "execution_count": 77,
   "id": "5b36d9c4-279a-43c6-8c74-495a1b533184",
   "metadata": {},
   "outputs": [],
   "source": [
    "le_norm = (\n",
    "    pd.json_normalize(response_le.json()[1])\n",
    "    .drop(\n",
    "        columns = {'unit', 'obs_status', 'country.id', 'indicator.id', 'indicator.value', 'countryiso3code', 'decimal'})\n",
    "    .rename(\n",
    "        columns = {'value': 'Life Expectancy', 'date': 'Year', 'country.value': 'Country'})\n",
    ")"
   ]
  },
  {
   "cell_type": "code",
   "execution_count": 15,
   "id": "16160bdd-4cbc-43c9-bf2e-af575d013a9b",
   "metadata": {},
   "outputs": [
    {
     "data": {
      "text/html": [
       "<div>\n",
       "<style scoped>\n",
       "    .dataframe tbody tr th:only-of-type {\n",
       "        vertical-align: middle;\n",
       "    }\n",
       "\n",
       "    .dataframe tbody tr th {\n",
       "        vertical-align: top;\n",
       "    }\n",
       "\n",
       "    .dataframe thead th {\n",
       "        text-align: right;\n",
       "    }\n",
       "</style>\n",
       "<table border=\"1\" class=\"dataframe\">\n",
       "  <thead>\n",
       "    <tr style=\"text-align: right;\">\n",
       "      <th></th>\n",
       "      <th>Year</th>\n",
       "      <th>Life Expectancy</th>\n",
       "      <th>Country</th>\n",
       "    </tr>\n",
       "  </thead>\n",
       "  <tbody>\n",
       "    <tr>\n",
       "      <th>0</th>\n",
       "      <td>2023</td>\n",
       "      <td>NaN</td>\n",
       "      <td>Africa Eastern and Southern</td>\n",
       "    </tr>\n",
       "    <tr>\n",
       "      <th>1</th>\n",
       "      <td>2022</td>\n",
       "      <td>62.899031</td>\n",
       "      <td>Africa Eastern and Southern</td>\n",
       "    </tr>\n",
       "    <tr>\n",
       "      <th>2</th>\n",
       "      <td>2021</td>\n",
       "      <td>62.454590</td>\n",
       "      <td>Africa Eastern and Southern</td>\n",
       "    </tr>\n",
       "  </tbody>\n",
       "</table>\n",
       "</div>"
      ],
      "text/plain": [
       "   Year  Life Expectancy                      Country\n",
       "0  2023              NaN  Africa Eastern and Southern\n",
       "1  2022        62.899031  Africa Eastern and Southern\n",
       "2  2021        62.454590  Africa Eastern and Southern"
      ]
     },
     "execution_count": 15,
     "metadata": {},
     "output_type": "execute_result"
    }
   ],
   "source": [
    "le_norm.head(3)"
   ]
  },
  {
   "cell_type": "markdown",
   "id": "d64f0b89-e062-4d76-a3a7-5a978373fc9f",
   "metadata": {},
   "source": [
    "3. Merge the two results DataFrames together. You may want to rename or drop columns prior to merging."
   ]
  },
  {
   "cell_type": "code",
   "execution_count": 17,
   "id": "618c7450-85dd-4b50-8617-749cd51be4e3",
   "metadata": {},
   "outputs": [],
   "source": [
    "gdp_le_df = pd.merge(gdp_norm[['Year', 'Country', 'GDP Per Capita']], le_norm)"
   ]
  },
  {
   "cell_type": "code",
   "execution_count": 109,
   "id": "eb65728b-72e2-48a0-b647-475e1ca1d58f",
   "metadata": {},
   "outputs": [
    {
     "data": {
      "text/html": [
       "<div>\n",
       "<style scoped>\n",
       "    .dataframe tbody tr th:only-of-type {\n",
       "        vertical-align: middle;\n",
       "    }\n",
       "\n",
       "    .dataframe tbody tr th {\n",
       "        vertical-align: top;\n",
       "    }\n",
       "\n",
       "    .dataframe thead th {\n",
       "        text-align: right;\n",
       "    }\n",
       "</style>\n",
       "<table border=\"1\" class=\"dataframe\">\n",
       "  <thead>\n",
       "    <tr style=\"text-align: right;\">\n",
       "      <th></th>\n",
       "      <th>Year</th>\n",
       "      <th>Country</th>\n",
       "      <th>GDP Per Capita</th>\n",
       "      <th>Life Expectancy</th>\n",
       "    </tr>\n",
       "  </thead>\n",
       "  <tbody>\n",
       "    <tr>\n",
       "      <th>3115</th>\n",
       "      <td>1980</td>\n",
       "      <td>World</td>\n",
       "      <td>NaN</td>\n",
       "      <td>62.233617</td>\n",
       "    </tr>\n",
       "    <tr>\n",
       "      <th>10780</th>\n",
       "      <td>1995</td>\n",
       "      <td>Malawi</td>\n",
       "      <td>1186.693884</td>\n",
       "      <td>43.641000</td>\n",
       "    </tr>\n",
       "    <tr>\n",
       "      <th>8568</th>\n",
       "      <td>1967</td>\n",
       "      <td>Haiti</td>\n",
       "      <td>NaN</td>\n",
       "      <td>46.125000</td>\n",
       "    </tr>\n",
       "    <tr>\n",
       "      <th>5602</th>\n",
       "      <td>1989</td>\n",
       "      <td>Chad</td>\n",
       "      <td>NaN</td>\n",
       "      <td>45.875000</td>\n",
       "    </tr>\n",
       "    <tr>\n",
       "      <th>5212</th>\n",
       "      <td>1995</td>\n",
       "      <td>Cabo Verde</td>\n",
       "      <td>2808.551368</td>\n",
       "      <td>64.093000</td>\n",
       "    </tr>\n",
       "  </tbody>\n",
       "</table>\n",
       "</div>"
      ],
      "text/plain": [
       "       Year     Country  GDP Per Capita  Life Expectancy\n",
       "3115   1980       World             NaN        62.233617\n",
       "10780  1995      Malawi     1186.693884        43.641000\n",
       "8568   1967       Haiti             NaN        46.125000\n",
       "5602   1989        Chad             NaN        45.875000\n",
       "5212   1995  Cabo Verde     2808.551368        64.093000"
      ]
     },
     "execution_count": 109,
     "metadata": {},
     "output_type": "execute_result"
    }
   ],
   "source": [
    "gdp_le_df.sample(5)"
   ]
  },
  {
   "cell_type": "markdown",
   "id": "129d64c9-7940-49c9-aeb9-42620f7f634a",
   "metadata": {},
   "source": [
    "4. You can also get more information about the available countries (region, capital city, income level classification, etc.) by using the Country API. Use this API to pull in all available data. Merge this with your other datasets. Use this to now remove the rows that correspond to regions and not countries."
   ]
  },
  {
   "cell_type": "code",
   "execution_count": 87,
   "id": "e1b23558-c4c5-46b1-8f61-f7a05bd9b9f8",
   "metadata": {},
   "outputs": [],
   "source": [
    "endpoint_country = 'https://api.worldbank.org/v2/country/all'\n",
    "\n",
    "response_country = requests.get(endpoint_country, params = params)"
   ]
  },
  {
   "cell_type": "code",
   "execution_count": 89,
   "id": "1d2b13ca-cc32-48f3-9048-668e7ab8252d",
   "metadata": {},
   "outputs": [],
   "source": [
    "country_res = response_country.json()"
   ]
  },
  {
   "cell_type": "code",
   "execution_count": 91,
   "id": "13005b7a-4d2c-48f5-805f-929f0b9c4fe7",
   "metadata": {},
   "outputs": [],
   "source": [
    "country_norm =  pd.json_normalize(country_res[1])"
   ]
  },
  {
   "cell_type": "code",
   "execution_count": 93,
   "id": "0a2daf8e-54d3-4096-acb4-3e351166ccd2",
   "metadata": {},
   "outputs": [],
   "source": [
    "country_norm = country_norm.rename(columns = {'name': 'Country'})"
   ]
  },
  {
   "cell_type": "code",
   "execution_count": 95,
   "id": "b0d43f73-3b65-4156-a575-2e5d9e0757ae",
   "metadata": {},
   "outputs": [],
   "source": [
    "gdp_le_df_country = pd.merge(gdp_le_df, country_norm)"
   ]
  },
  {
   "cell_type": "code",
   "execution_count": 97,
   "id": "5ae4f153-a2da-4d90-b1f7-d5e1f04f8e23",
   "metadata": {},
   "outputs": [],
   "source": [
    "gdp_le_df_country = gdp_le_df_country.drop(columns = {'region.value', 'region.id', 'adminregion.value', 'region.iso2code})"
   ]
  },
  {
   "cell_type": "code",
   "execution_count": 117,
   "id": "36b17159-7324-40f0-a93a-f44880a0cb42",
   "metadata": {},
   "outputs": [
    {
     "data": {
      "text/html": [
       "<div>\n",
       "<style scoped>\n",
       "    .dataframe tbody tr th:only-of-type {\n",
       "        vertical-align: middle;\n",
       "    }\n",
       "\n",
       "    .dataframe tbody tr th {\n",
       "        vertical-align: top;\n",
       "    }\n",
       "\n",
       "    .dataframe thead th {\n",
       "        text-align: right;\n",
       "    }\n",
       "</style>\n",
       "<table border=\"1\" class=\"dataframe\">\n",
       "  <thead>\n",
       "    <tr style=\"text-align: right;\">\n",
       "      <th></th>\n",
       "      <th>Year</th>\n",
       "      <th>Country</th>\n",
       "      <th>GDP Per Capita</th>\n",
       "      <th>Life Expectancy</th>\n",
       "      <th>id</th>\n",
       "      <th>iso2Code</th>\n",
       "      <th>capitalCity</th>\n",
       "      <th>longitude</th>\n",
       "      <th>latitude</th>\n",
       "      <th>region.iso2code</th>\n",
       "      <th>adminregion.id</th>\n",
       "      <th>adminregion.iso2code</th>\n",
       "      <th>incomeLevel.id</th>\n",
       "      <th>incomeLevel.iso2code</th>\n",
       "      <th>incomeLevel.value</th>\n",
       "      <th>lendingType.id</th>\n",
       "      <th>lendingType.iso2code</th>\n",
       "      <th>lendingType.value</th>\n",
       "    </tr>\n",
       "  </thead>\n",
       "  <tbody>\n",
       "    <tr>\n",
       "      <th>14272</th>\n",
       "      <td>2023</td>\n",
       "      <td>Somalia</td>\n",
       "      <td>1452.357532</td>\n",
       "      <td>NaN</td>\n",
       "      <td>SOM</td>\n",
       "      <td>SO</td>\n",
       "      <td>Mogadishu</td>\n",
       "      <td>45.3254</td>\n",
       "      <td>2.07515</td>\n",
       "      <td>ZG</td>\n",
       "      <td>SSA</td>\n",
       "      <td>ZF</td>\n",
       "      <td>LIC</td>\n",
       "      <td>XM</td>\n",
       "      <td>Low income</td>\n",
       "      <td>IDX</td>\n",
       "      <td>XI</td>\n",
       "      <td>IDA</td>\n",
       "    </tr>\n",
       "    <tr>\n",
       "      <th>12850</th>\n",
       "      <td>1973</td>\n",
       "      <td>Paraguay</td>\n",
       "      <td>NaN</td>\n",
       "      <td>63.066</td>\n",
       "      <td>PRY</td>\n",
       "      <td>PY</td>\n",
       "      <td>Asuncion</td>\n",
       "      <td>-57.6362</td>\n",
       "      <td>-25.3005</td>\n",
       "      <td>ZJ</td>\n",
       "      <td>LAC</td>\n",
       "      <td>XJ</td>\n",
       "      <td>UMC</td>\n",
       "      <td>XT</td>\n",
       "      <td>Upper middle income</td>\n",
       "      <td>IBD</td>\n",
       "      <td>XF</td>\n",
       "      <td>IBRD</td>\n",
       "    </tr>\n",
       "    <tr>\n",
       "      <th>6292</th>\n",
       "      <td>2003</td>\n",
       "      <td>Cyprus</td>\n",
       "      <td>39337.535156</td>\n",
       "      <td>77.788</td>\n",
       "      <td>CYP</td>\n",
       "      <td>CY</td>\n",
       "      <td>Nicosia</td>\n",
       "      <td>33.3736</td>\n",
       "      <td>35.1676</td>\n",
       "      <td>Z7</td>\n",
       "      <td></td>\n",
       "      <td></td>\n",
       "      <td>HIC</td>\n",
       "      <td>XD</td>\n",
       "      <td>High income</td>\n",
       "      <td>LNX</td>\n",
       "      <td>XX</td>\n",
       "      <td>Not classified</td>\n",
       "    </tr>\n",
       "  </tbody>\n",
       "</table>\n",
       "</div>"
      ],
      "text/plain": [
       "       Year   Country  GDP Per Capita  Life Expectancy   id iso2Code  \\\n",
       "14272  2023   Somalia     1452.357532              NaN  SOM       SO   \n",
       "12850  1973  Paraguay             NaN           63.066  PRY       PY   \n",
       "6292   2003    Cyprus    39337.535156           77.788  CYP       CY   \n",
       "\n",
       "      capitalCity longitude  latitude region.iso2code adminregion.id  \\\n",
       "14272   Mogadishu   45.3254   2.07515              ZG            SSA   \n",
       "12850    Asuncion  -57.6362  -25.3005              ZJ            LAC   \n",
       "6292      Nicosia   33.3736   35.1676              Z7                  \n",
       "\n",
       "      adminregion.iso2code incomeLevel.id incomeLevel.iso2code  \\\n",
       "14272                   ZF            LIC                   XM   \n",
       "12850                   XJ            UMC                   XT   \n",
       "6292                                  HIC                   XD   \n",
       "\n",
       "         incomeLevel.value lendingType.id lendingType.iso2code  \\\n",
       "14272           Low income            IDX                   XI   \n",
       "12850  Upper middle income            IBD                   XF   \n",
       "6292           High income            LNX                   XX   \n",
       "\n",
       "      lendingType.value  \n",
       "14272               IDA  \n",
       "12850              IBRD  \n",
       "6292     Not classified  "
      ]
     },
     "execution_count": 117,
     "metadata": {},
     "output_type": "execute_result"
    }
   ],
   "source": [
    "gdp_le_df_country.sample(3)"
   ]
  },
  {
   "cell_type": "markdown",
   "id": "33fcd8af-d89a-4852-aada-6d36577ee55a",
   "metadata": {},
   "source": [
    "## Bonus Questions ##"
   ]
  },
  {
   "cell_type": "markdown",
   "id": "ab0a7e08-965a-4766-abfb-195bd140801b",
   "metadata": {},
   "source": [
    "1. Adjust your request so that it returns data just for the United States "
   ]
  },
  {
   "cell_type": "code",
   "execution_count": 29,
   "id": "7b4e83a2-1b2e-4275-9dbf-966f48b5a7fe",
   "metadata": {},
   "outputs": [],
   "source": [
    "endpoint_us = 'https://api.worldbank.org/v2/country/us?format=json'"
   ]
  },
  {
   "cell_type": "markdown",
   "id": "2b64448c-1cb6-47c8-ae4c-16e729fbf3c5",
   "metadata": {},
   "source": [
    "2. Adjust your request so that it returns data just for the United States for the year 2021."
   ]
  },
  {
   "cell_type": "code",
   "execution_count": 31,
   "id": "eb0800cb-e2d8-413e-9d7e-7ac7d84c14f9",
   "metadata": {},
   "outputs": [],
   "source": [
    "endpoint_us_2021 = 'https://api.worldbank.org/v2/country/us?date=2021/format=json'"
   ]
  },
  {
   "cell_type": "code",
   "execution_count": 32,
   "id": "e0e8b7e6-d0da-4655-9fdb-d550cde64262",
   "metadata": {},
   "outputs": [],
   "source": [
    "endpoint_us_2021_res = requests.get(endpoint_us_2021)"
   ]
  },
  {
   "cell_type": "markdown",
   "id": "beb8f143-e01a-4d26-b583-12f2ce8aa9d6",
   "metadata": {},
   "source": [
    "3. Adjust your request so that it returns data just for the United States for the years 2000 through 2021."
   ]
  },
  {
   "cell_type": "code",
   "execution_count": 55,
   "id": "11015017-e31d-4931-ad7a-d42fe38f70dd",
   "metadata": {},
   "outputs": [],
   "source": [
    "endpoint_us_2000_2021 = 'https://api.worldbank.org/v2/country/us?date=2000:2021/format=json'"
   ]
  },
  {
   "cell_type": "markdown",
   "id": "c6e80956-3e80-4d06-a1aa-3e136a8a7100",
   "metadata": {},
   "source": [
    "4. Adjust your request so that it returns data for the United States and Canada for the years 2000 through 2021."
   ]
  },
  {
   "cell_type": "code",
   "execution_count": 59,
   "id": "013fb90c-e93f-4877-be69-ca214a9cc530",
   "metadata": {},
   "outputs": [],
   "source": [
    "endpoint_us_ca = 'https://api.worldbank.org/v2/country/us;ca?date=2000:2021/format=json'"
   ]
  },
  {
   "cell_type": "markdown",
   "id": "283139c6-f75c-474e-b75a-832a4ddc7d61",
   "metadata": {},
   "source": [
    "5. If you haven't already done so and you would like to get some additional practice using loops, use the page parameter in order to pull all records. Do not change the value of the per_page parameter. You will likely need to utilize a loop of some kind in order to pull all records."
   ]
  },
  {
   "cell_type": "code",
   "execution_count": null,
   "id": "59ef9767-4cf0-420e-a34c-4d3149ff50d3",
   "metadata": {},
   "outputs": [],
   "source": []
  },
  {
   "cell_type": "markdown",
   "id": "6222a291-a7f2-4758-b578-f88aea7f3d2a",
   "metadata": {},
   "source": [
    "6. The endpoint \"http://api.worldbank.org/v2/indicator\" will return information about all available indicators. See Indicator API Queries. Use this endpoint to find the code for the \"Public Expenditure on Education (% GDP)\" indicator. "
   ]
  },
  {
   "cell_type": "code",
   "execution_count": null,
   "id": "9768823f-1f65-41a2-aed3-e74ca376bb79",
   "metadata": {},
   "outputs": [],
   "source": []
  }
 ],
 "metadata": {
  "kernelspec": {
   "display_name": "Python 3 (ipykernel)",
   "language": "python",
   "name": "python3"
  },
  "language_info": {
   "codemirror_mode": {
    "name": "ipython",
    "version": 3
   },
   "file_extension": ".py",
   "mimetype": "text/x-python",
   "name": "python",
   "nbconvert_exporter": "python",
   "pygments_lexer": "ipython3",
   "version": "3.12.4"
  }
 },
 "nbformat": 4,
 "nbformat_minor": 5
}
